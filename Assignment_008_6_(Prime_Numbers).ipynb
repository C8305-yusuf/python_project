{
  "nbformat": 4,
  "nbformat_minor": 0,
  "metadata": {
    "colab": {
      "name": "Assignment-008/6 (Prime Numbers).ipynb",
      "private_outputs": true,
      "provenance": [],
      "authorship_tag": "ABX9TyM2Heizzadtp3uPhztQN2jy",
      "include_colab_link": true
    },
    "kernelspec": {
      "name": "python3",
      "display_name": "Python 3"
    },
    "language_info": {
      "name": "python"
    }
  },
  "cells": [
    {
      "cell_type": "markdown",
      "metadata": {
        "id": "view-in-github",
        "colab_type": "text"
      },
      "source": [
        "<a href=\"https://colab.research.google.com/github/C8305-yusuf/python_project/blob/main/Assignment_008_6_(Prime_Numbers).ipynb\" target=\"_parent\"><img src=\"https://colab.research.google.com/assets/colab-badge.svg\" alt=\"Open In Colab\"/></a>"
      ]
    },
    {
      "cell_type": "code",
      "metadata": {
        "id": "1HMnQ9GHHOP7"
      },
      "source": [
        "a = int(input(\"Enter first number: \"))\n",
        "n = int(input(\"Enter second number: \"))\n",
        "list = [] \n",
        "for i in range(a, n+1):\n",
        "  if i>1:\n",
        "    for k in range(2,i):\n",
        "        if(i % k==0):\n",
        "            break\n",
        "    else:\n",
        "        list.append(i)\n",
        "print(list)    \n"
      ],
      "execution_count": null,
      "outputs": []
    }
  ]
}