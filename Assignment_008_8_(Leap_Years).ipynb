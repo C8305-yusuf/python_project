{
  "nbformat": 4,
  "nbformat_minor": 0,
  "metadata": {
    "colab": {
      "name": "Assignment-008/8 (Leap Years).ipynb",
      "private_outputs": true,
      "provenance": [],
      "authorship_tag": "ABX9TyPC7+3xwurg1O1qx36DPOLo",
      "include_colab_link": true
    },
    "kernelspec": {
      "name": "python3",
      "display_name": "Python 3"
    },
    "language_info": {
      "name": "python"
    }
  },
  "cells": [
    {
      "cell_type": "markdown",
      "metadata": {
        "id": "view-in-github",
        "colab_type": "text"
      },
      "source": [
        "<a href=\"https://colab.research.google.com/github/C8305-yusuf/python_project/blob/main/Assignment_008_8_(Leap_Years).ipynb\" target=\"_parent\"><img src=\"https://colab.research.google.com/assets/colab-badge.svg\" alt=\"Open In Colab\"/></a>"
      ]
    },
    {
      "cell_type": "code",
      "metadata": {
        "id": "aj4HJCesrA2S"
      },
      "source": [
        "year = int(input(\"please enter a year :\"))    \n",
        "    \n",
        "if year%400==0 :\n",
        "    print(year, \"is a leap year\") \n",
        "elif year%4 == 0 and year%100 != 0:\n",
        "    print(year, \"is a leap year\")\n",
        "else:\n",
        "    print(year, \"is not a leap year\")\n",
        "\n"
      ],
      "execution_count": null,
      "outputs": []
    }
  ]
}